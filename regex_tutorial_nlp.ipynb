{
  "nbformat": 4,
  "nbformat_minor": 0,
  "metadata": {
    "colab": {
      "provenance": [],
      "authorship_tag": "ABX9TyP9QQoTVZYL6C0C1e/2noiC",
      "include_colab_link": true
    },
    "kernelspec": {
      "name": "python3",
      "display_name": "Python 3"
    },
    "language_info": {
      "name": "python"
    }
  },
  "cells": [
    {
      "cell_type": "markdown",
      "metadata": {
        "id": "view-in-github",
        "colab_type": "text"
      },
      "source": [
        "<a href=\"https://colab.research.google.com/github/ninjaa1234/NLP/blob/main/regex_tutorial_nlp.ipynb\" target=\"_parent\"><img src=\"https://colab.research.google.com/assets/colab-badge.svg\" alt=\"Open In Colab\"/></a>"
      ]
    },
    {
      "cell_type": "code",
      "execution_count": 1,
      "metadata": {
        "id": "N8xpht3YyMtJ"
      },
      "outputs": [],
      "source": [
        "import re\n"
      ]
    },
    {
      "cell_type": "markdown",
      "source": [
        "### https://regex101.com/"
      ],
      "metadata": {
        "id": "oyk44rcC3OMS"
      }
    },
    {
      "cell_type": "code",
      "source": [
        "chat1='codebasics: Hello, I am having an issue with my order # 412889912'\n",
        "chat2='codebasics: I have a problem with my order number 412889912'\n",
        "chat3='codebasics: My order 412889912 is having an issue, I was charged 300$ when online it says 280$'"
      ],
      "metadata": {
        "id": "KwxzrT7_2MZU"
      },
      "execution_count": 26,
      "outputs": []
    },
    {
      "cell_type": "markdown",
      "source": [
        "##matching numbers"
      ],
      "metadata": {
        "id": "4H8gZK9o6QMf"
      }
    },
    {
      "cell_type": "code",
      "source": [
        "pattern='\\d{9}'\n",
        "matches=re.findall(pattern, chat1)\n",
        "matches"
      ],
      "metadata": {
        "colab": {
          "base_uri": "https://localhost:8080/"
        },
        "id": "GK_QWYLo3lnl",
        "outputId": "a9a835f7-bec6-4bee-a698-c178e8b66ab8"
      },
      "execution_count": 7,
      "outputs": [
        {
          "output_type": "execute_result",
          "data": {
            "text/plain": [
              "['412889912']"
            ]
          },
          "metadata": {},
          "execution_count": 7
        }
      ]
    },
    {
      "cell_type": "code",
      "source": [
        "chat1a = 'codebasics: you ask lot of questions 😠  1235678912, abcA@xyz.com'\n",
        "chat2a = 'codebasics: here it is: (123)-567-8912, abX_82@xyz.com'\n",
        "chat3a = 'codebasics: yes, phone: 1235678912 email: abc@xyz.com'"
      ],
      "metadata": {
        "id": "Mm68aAy24sX5"
      },
      "execution_count": 20,
      "outputs": []
    },
    {
      "cell_type": "markdown",
      "source": [
        "##matching numbers along with symbols"
      ],
      "metadata": {
        "id": "piC5CguC6T-R"
      }
    },
    {
      "cell_type": "code",
      "source": [
        "patterna=\"\\(\\d{3}\\)-\\d{3}-\\d{4}|\\d{10}\"\n",
        "matchesa=re.findall(patterna, chat1a)\n",
        "matchesa"
      ],
      "metadata": {
        "colab": {
          "base_uri": "https://localhost:8080/"
        },
        "id": "F8OM7O8x5gVC",
        "outputId": "e2f0fcb7-071f-47bd-c8fe-fb982f34f472"
      },
      "execution_count": 17,
      "outputs": [
        {
          "output_type": "execute_result",
          "data": {
            "text/plain": [
              "['1235678912']"
            ]
          },
          "metadata": {},
          "execution_count": 17
        }
      ]
    },
    {
      "cell_type": "markdown",
      "source": [
        "##matching email addresses"
      ],
      "metadata": {
        "id": "sjrfv9bv6Xwe"
      }
    },
    {
      "cell_type": "code",
      "source": [
        "patternb=\"[a-z0-9A-Z_]*@[a-zA-Z]*\\.[a-zA-Z]*\"\n",
        "matchesb=re.findall(patternb, chat1a)\n",
        "matchesb"
      ],
      "metadata": {
        "colab": {
          "base_uri": "https://localhost:8080/"
        },
        "id": "S3O4_Bzm6aVg",
        "outputId": "469175aa-3d90-41dd-a158-89182f94e07f"
      },
      "execution_count": 23,
      "outputs": [
        {
          "output_type": "execute_result",
          "data": {
            "text/plain": [
              "['abcA@xyz.com']"
            ]
          },
          "metadata": {},
          "execution_count": 23
        }
      ]
    },
    {
      "cell_type": "code",
      "source": [
        "email=matchesb[0]\n",
        "email"
      ],
      "metadata": {
        "colab": {
          "base_uri": "https://localhost:8080/",
          "height": 36
        },
        "id": "9_jZnkLk8Wqw",
        "outputId": "be7463a3-58e0-4766-985b-9d0bf78052e4"
      },
      "execution_count": 24,
      "outputs": [
        {
          "output_type": "execute_result",
          "data": {
            "text/plain": [
              "'abcA@xyz.com'"
            ],
            "application/vnd.google.colaboratory.intrinsic+json": {
              "type": "string"
            }
          },
          "metadata": {},
          "execution_count": 24
        }
      ]
    },
    {
      "cell_type": "markdown",
      "source": [
        "##matching order number"
      ],
      "metadata": {
        "id": "MAu2tUfN8kOn"
      }
    },
    {
      "cell_type": "code",
      "source": [
        "pattern_order_number=\"order[^\\d]*\\d*\"\n",
        "matches_order_number=re.findall(pattern_order_number,chat1)\n",
        "matches_order_number"
      ],
      "metadata": {
        "colab": {
          "base_uri": "https://localhost:8080/"
        },
        "id": "AT-IEnsz8mvM",
        "outputId": "2f255622-b70e-473f-a9b5-1445e81aa7b6"
      },
      "execution_count": 28,
      "outputs": [
        {
          "output_type": "execute_result",
          "data": {
            "text/plain": [
              "['order # 412889912']"
            ]
          },
          "metadata": {},
          "execution_count": 28
        }
      ]
    },
    {
      "cell_type": "code",
      "source": [
        "pattern_order_number_specifically=\"order[^\\d]*(\\d*)\"\n",
        "matches_order_number=re.findall(pattern_order_number_specifically,chat1)\n",
        "matches_order_number"
      ],
      "metadata": {
        "colab": {
          "base_uri": "https://localhost:8080/"
        },
        "id": "4ElCoKuQA0O5",
        "outputId": "1a60e6b4-5e14-479f-ce62-864a61954c57"
      },
      "execution_count": 29,
      "outputs": [
        {
          "output_type": "execute_result",
          "data": {
            "text/plain": [
              "['412889912']"
            ]
          },
          "metadata": {},
          "execution_count": 29
        }
      ]
    },
    {
      "cell_type": "markdown",
      "source": [
        "##wikipedia examples"
      ],
      "metadata": {
        "id": "dr1B_5RjB8xV"
      }
    },
    {
      "cell_type": "code",
      "source": [
        "text='''\n",
        "Born\tElon Reeve Musk\n",
        "June 28, 1971 (age 52)\n",
        "Pretoria, Transvaal, South Africa\n",
        "Education\tUniversity of Pennsylvania (BA, BS)\n",
        "Title\n",
        "Founder, CEO, and chief engineer of SpaceX\n",
        "CEO and product architect of Tesla, Inc.\n",
        "Owner and CTO of Twitter\n",
        "President of the Musk Foundation\n",
        "Founder of the Boring Company, X Corp., and xAI\n",
        "Co-founder of Neuralink, OpenAI, Zip2, and X.com (part of PayPal)\n",
        "Spouses\n",
        "Justine Wilson\n",
        "​\n",
        "​(m. 2000; div. 2008)​\n",
        "Talulah Riley\n",
        "​\n",
        "​(m. 2010; div. 2012)​\n",
        "​\n",
        "​(m. 2013; div. 2016)​\n",
        "Partner\tGrimes (2018–2021)[1]\n",
        "Children\t10[2]\n",
        "Parents\n",
        "Errol Musk\n",
        "Maye Musk\n",
        "Family\tMusk family\n",
        "'''"
      ],
      "metadata": {
        "id": "BBUZ1cXXB_RY"
      },
      "execution_count": 56,
      "outputs": []
    },
    {
      "cell_type": "code",
      "source": [
        "pattern_age=\"age ([\\d]+)\"\n",
        "matches_age=re.findall(pattern_age,text)\n",
        "matches_age\n",
        "email=matches_age[0]\n",
        "email"
      ],
      "metadata": {
        "colab": {
          "base_uri": "https://localhost:8080/",
          "height": 36
        },
        "id": "gX3WWwUgCKnx",
        "outputId": "88e59cdc-ffa4-4b00-f5a8-4aff72c84ba5"
      },
      "execution_count": 39,
      "outputs": [
        {
          "output_type": "execute_result",
          "data": {
            "text/plain": [
              "'52'"
            ],
            "application/vnd.google.colaboratory.intrinsic+json": {
              "type": "string"
            }
          },
          "metadata": {},
          "execution_count": 39
        }
      ]
    },
    {
      "cell_type": "code",
      "source": [
        "pattern_name=\"Born(.*)\"\n",
        "matches_name=re.findall(pattern_name,text)\n",
        "matches_name\n",
        "email=matches_name[0]\n",
        "email.strip()"
      ],
      "metadata": {
        "colab": {
          "base_uri": "https://localhost:8080/",
          "height": 36
        },
        "id": "ybfTQsNmCOMO",
        "outputId": "1a1f188d-cc4c-4853-fefd-2af4abf54959"
      },
      "execution_count": 43,
      "outputs": [
        {
          "output_type": "execute_result",
          "data": {
            "text/plain": [
              "'Elon Reeve Musk'"
            ],
            "application/vnd.google.colaboratory.intrinsic+json": {
              "type": "string"
            }
          },
          "metadata": {},
          "execution_count": 43
        }
      ]
    },
    {
      "cell_type": "code",
      "source": [
        "pattern_dob=\"Born.*\\n(.*)\\(age\"\n",
        "matches_dob=re.findall(pattern_dob,text)\n",
        "matches_dob\n",
        "email=matches_dob[0]\n",
        "email.strip()"
      ],
      "metadata": {
        "colab": {
          "base_uri": "https://localhost:8080/",
          "height": 36
        },
        "id": "x3Yb1xtzEL_t",
        "outputId": "92e47481-cb66-47cc-b86e-48414d5be2ae"
      },
      "execution_count": 45,
      "outputs": [
        {
          "output_type": "execute_result",
          "data": {
            "text/plain": [
              "'June 28, 1971'"
            ],
            "application/vnd.google.colaboratory.intrinsic+json": {
              "type": "string"
            }
          },
          "metadata": {},
          "execution_count": 45
        }
      ]
    },
    {
      "cell_type": "code",
      "source": [
        "pattern_add=\"age.*\\n(.*)\"\n",
        "matches_add=re.findall(pattern_add,text)\n",
        "matches_add\n",
        "email=matches_add[0]\n",
        "email.strip()"
      ],
      "metadata": {
        "colab": {
          "base_uri": "https://localhost:8080/",
          "height": 36
        },
        "id": "YdvRo2tyE0FV",
        "outputId": "15bbcc57-c8a9-489c-876b-d7f8aee94a2a"
      },
      "execution_count": 47,
      "outputs": [
        {
          "output_type": "execute_result",
          "data": {
            "text/plain": [
              "'Pretoria, Transvaal, South Africa'"
            ],
            "application/vnd.google.colaboratory.intrinsic+json": {
              "type": "string"
            }
          },
          "metadata": {},
          "execution_count": 47
        }
      ]
    },
    {
      "cell_type": "markdown",
      "source": [
        "##user defined function for this"
      ],
      "metadata": {
        "id": "82dClpcPFMjw"
      }
    },
    {
      "cell_type": "code",
      "source": [
        "def get_pattern_match(pattern,text):\n",
        "  matches=re.findall(pattern,text)\n",
        "  if matches:\n",
        "    return matches[0]"
      ],
      "metadata": {
        "id": "pFnHkwqkFPBx"
      },
      "execution_count": 50,
      "outputs": []
    },
    {
      "cell_type": "code",
      "source": [
        "get_pattern_match(\"age.*\\n(.*)\",text)"
      ],
      "metadata": {
        "colab": {
          "base_uri": "https://localhost:8080/",
          "height": 36
        },
        "id": "Y1-VAI_HFgte",
        "outputId": "e11fa219-8f90-4627-a4f5-9ead52f6e84d"
      },
      "execution_count": 51,
      "outputs": [
        {
          "output_type": "execute_result",
          "data": {
            "text/plain": [
              "'Pretoria, Transvaal, South Africa'"
            ],
            "application/vnd.google.colaboratory.intrinsic+json": {
              "type": "string"
            }
          },
          "metadata": {},
          "execution_count": 51
        }
      ]
    },
    {
      "cell_type": "code",
      "source": [
        "def get_personal_information(text):\n",
        "  age=get_pattern_match(\"age ([\\d]+)\",text)\n",
        "  full_name=get_pattern_match(pattern_name,text)\n",
        "  dob=get_pattern_match(\"Born.*\\n(.*)\\(age\",text)\n",
        "  address=get_pattern_match(\"age.*\\n(.*)\",text)\n",
        "\n",
        "  return {\n",
        "      'age':int(age),\n",
        "      'name':full_name.strip(),\n",
        "      'dob' : dob.strip(),\n",
        "      'address':address.strip(),\n",
        "  }"
      ],
      "metadata": {
        "id": "OEZNbLX_FoKg"
      },
      "execution_count": 59,
      "outputs": []
    },
    {
      "cell_type": "code",
      "source": [
        "get_personal_information(text)"
      ],
      "metadata": {
        "colab": {
          "base_uri": "https://localhost:8080/"
        },
        "id": "JZ6sOD4_KRYE",
        "outputId": "aa87dc29-ba60-47ff-9529-0120dd103827"
      },
      "execution_count": 60,
      "outputs": [
        {
          "output_type": "execute_result",
          "data": {
            "text/plain": [
              "{'age': 52,\n",
              " 'name': 'Elon Reeve Musk',\n",
              " 'dob': 'June 28, 1971',\n",
              " 'address': 'Pretoria, Transvaal, South Africa'}"
            ]
          },
          "metadata": {},
          "execution_count": 60
        }
      ]
    },
    {
      "cell_type": "code",
      "source": [],
      "metadata": {
        "id": "eKHAJoksKuIu"
      },
      "execution_count": null,
      "outputs": []
    }
  ]
}